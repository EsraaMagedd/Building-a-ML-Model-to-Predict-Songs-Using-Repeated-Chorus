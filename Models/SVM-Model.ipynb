{
  "cells": [
    {
      "cell_type": "markdown",
      "source": [
        "# libraries and data loading"
      ],
      "metadata": {
        "id": "lAi7Zno6tSMt"
      }
    },
    {
      "cell_type": "code",
      "execution_count": null,
      "metadata": {
        "id": "lBSF68vw6F2g"
      },
      "outputs": [],
      "source": [
        "#some identefiers that we will probably use!\n",
        "import numpy as np\n",
        "import pandas as pd\n",
        "from sklearn.model_selection import train_test_split\n",
        "from sklearn.metrics import f1_score, precision_score, accuracy_score, recall_score, balanced_accuracy_score\n",
        "from sklearn.svm import SVC\n",
        "from sklearn.svm import LinearSVC, SVC\n",
        "import sklearn.metrics as metrics\n",
        "from sklearn.metrics import confusion_matrix\n",
        "from sklearn import svm, datasets\n",
        "np.random.seed(42)"
      ]
    },
    {
      "cell_type": "code",
      "execution_count": null,
      "metadata": {
        "id": "6Uusq1C76Lxu"
      },
      "outputs": [],
      "source": [
        "datap=pd.read_csv(\"/content/drive/MyDrive/music data/PCA_data (2).csv\") #loading data"
      ]
    },
    {
      "cell_type": "code",
      "execution_count": null,
      "metadata": {
        "id": "dszeQPCV6tlO"
      },
      "outputs": [],
      "source": [
        "x=datap.drop(['Popular','Artist','Song'],axis=1) #artist and song columns are both useless features and should be dropped\n",
        "y=datap.Popular#separting the target variable"
      ]
    },
    {
      "cell_type": "code",
      "execution_count": null,
      "metadata": {
        "id": "bR7rVmz86rUe"
      },
      "outputs": [],
      "source": [
        "x_train, x_test, y_train, y_test=train_test_split(x,y,test_size=0.2,random_state=42)#splitting the data"
      ]
    },
    {
      "cell_type": "markdown",
      "source": [
        "#Modeling"
      ],
      "metadata": {
        "id": "KJCIKbo_tr_k"
      }
    },
    {
      "cell_type": "markdown",
      "source": [
        "Through extensive research we found that the rbf kernal is the most suitable for this project so we ran cv grid search on our viable parameters to see whcih fit the best"
      ],
      "metadata": {
        "id": "S0wW311Yt0_U"
      }
    },
    {
      "cell_type": "code",
      "execution_count": null,
      "metadata": {
        "id": "PJN_GwzUQPUs"
      },
      "outputs": [],
      "source": [
        "param_grid_svm = {\n",
        "    'C': [0.1, 1, 10, 100],#the error function's to check\n",
        "    'gamma': [1, 0.1, 0.01, 0.001],#the gamma functions to check\n",
        "    'kernel': [ 'rbf'],\n",
        "    'class_weight': ['balanced']\n",
        "}"
      ]
    },
    {
      "cell_type": "code",
      "execution_count": null,
      "metadata": {
        "colab": {
          "base_uri": "https://localhost:8080/"
        },
        "id": "s2Pa1G7VOax0",
        "outputId": "2fa5049e-84cf-4169-d547-80b7f4dab66d"
      },
      "outputs": [
        {
          "output_type": "stream",
          "name": "stdout",
          "text": [
            "Fitting 10 folds for each of 16 candidates, totalling 160 fits\n",
            "SVC(C=1, class_weight='balanced', gamma=0.01, probability=True, random_state=42)\n"
          ]
        }
      ],
      "source": [
        "from sklearn.svm import SVC\n",
        "from sklearn.model_selection import GridSearchCV\n",
        "svmModel_grid = GridSearchCV(estimator=SVC(random_state=42, probability=True), param_grid= param_grid_svm, verbose=1, cv=10, n_jobs=-1)#grid searching\n",
        "svmModel_grid.fit(x_train, y_train)#fitting the model\n",
        "print(svmModel_grid.best_estimator_)#getting best parameters"
      ]
    },
    {
      "cell_type": "code",
      "execution_count": null,
      "metadata": {
        "id": "kGuMOJHKkG6H"
      },
      "outputs": [],
      "source": [
        "from sklearn.metrics import classification_report\n",
        "model=SVC(kernel='rbf',C=1, class_weight='balanced', gamma=0.01, probability=True, random_state=42).fit(x_train, y_train)#loading in our model\n",
        "model.fit(x_train,y_train)#training the model\n",
        "y_preds=model.predict(x_test)#getting test predictions"
      ]
    },
    {
      "cell_type": "code",
      "execution_count": null,
      "metadata": {
        "colab": {
          "base_uri": "https://localhost:8080/"
        },
        "id": "kPZpx2LDkSVm",
        "outputId": "86f60a09-54e2-4eee-d10d-dd273aea6aad"
      },
      "outputs": [
        {
          "output_type": "stream",
          "name": "stdout",
          "text": [
            "              precision    recall  f1-score   support\n",
            "\n",
            "           0     0.8140    0.9722    0.8861       252\n",
            "           1     0.8679    0.4510    0.5935       102\n",
            "\n",
            "    accuracy                         0.8220       354\n",
            "   macro avg     0.8409    0.7116    0.7398       354\n",
            "weighted avg     0.8295    0.8220    0.8018       354\n",
            "\n",
            "0.5935483870967742\n"
          ]
        }
      ],
      "source": [
        "print(classification_report(y_test,y_preds,digits=4))#classifaction report\n",
        "print(f1_score(y_test, y_preds))#loading in f1 score to focus on it"
      ]
    },
    {
      "cell_type": "code",
      "source": [
        "print(confusion_matrix(y_test, y_preds))#the confusion matrix\n"
      ],
      "metadata": {
        "colab": {
          "base_uri": "https://localhost:8080/"
        },
        "id": "vZX6UVUFGtYK",
        "outputId": "30c0c4b2-cc07-4fa0-9daf-5c03a756a634"
      },
      "execution_count": null,
      "outputs": [
        {
          "output_type": "stream",
          "name": "stdout",
          "text": [
            "[[245   7]\n",
            " [ 56  46]]\n"
          ]
        }
      ]
    }
  ],
  "metadata": {
    "colab": {
      "provenance": []
    },
    "kernelspec": {
      "display_name": "Python 3",
      "name": "python3"
    },
    "language_info": {
      "name": "python"
    }
  },
  "nbformat": 4,
  "nbformat_minor": 0
}