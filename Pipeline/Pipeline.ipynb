{
  "nbformat": 4,
  "nbformat_minor": 0,
  "metadata": {
    "colab": {
      "provenance": []
    },
    "kernelspec": {
      "name": "python3",
      "display_name": "Python 3"
    },
    "language_info": {
      "name": "python"
    }
  },
  "cells": [
    {
      "cell_type": "code",
      "source": [
        "#some identefiers that we will probably use!\n",
        "import seaborn as sns\n",
        "import numpy as np\n",
        "import pandas as pd\n",
        "from sklearn.model_selection import train_test_split\n",
        "#from sklearn.preprocessing import StandardScaler\n",
        "from sklearn.metrics import f1_score, precision_score, accuracy_score, recall_score, balanced_accuracy_score\n",
        "#from sklearn.svm import LinearSVC, SVC\n",
        "import sklearn.metrics as metrics\n",
        "from sklearn.metrics import confusion_matrix\n",
        "np.random.seed(42)\n",
        "#from sklearn.decomposition import PCA\n",
        "from sklearn.metrics import classification_report, confusion_matrix, accuracy_score\n",
        "import pickle\n",
        "#from sklearn.pipeline import Pipeline"
      ],
      "metadata": {
        "id": "G8N7EBtaU32X"
      },
      "execution_count": null,
      "outputs": []
    },
    {
      "cell_type": "code",
      "source": [
        "path = '/content/drive/MyDrive/Data/final_dataset.csv'\n",
        "df = pd.read_csv(path)"
      ],
      "metadata": {
        "id": "WwqJiGVwU-Jf"
      },
      "execution_count": null,
      "outputs": []
    },
    {
      "cell_type": "code",
      "source": [
        "X = df.drop(columns=['Artist', 'Song', 'Popular','chorus_duration'])\n",
        "Y = df['Popular']\n"
      ],
      "metadata": {
        "id": "kH9wwYNXVJMY"
      },
      "execution_count": null,
      "outputs": []
    },
    {
      "cell_type": "code",
      "source": [
        "import pickle\n",
        "with open('/content/drive/MyDrive/Data/pca.pkl', 'rb') as file:\n",
        "    pca = pickle.load(file)"
      ],
      "metadata": {
        "id": "2jOdm9e2VWzo"
      },
      "execution_count": null,
      "outputs": []
    },
    {
      "cell_type": "code",
      "source": [
        "with open('/content/drive/MyDrive/Data/std (1).pkl', 'rb') as file:\n",
        "    stdscaler = pickle.load(file)"
      ],
      "metadata": {
        "id": "jJTaWF6qVYVw"
      },
      "execution_count": null,
      "outputs": []
    },
    {
      "cell_type": "code",
      "source": [
        "with open('/content/drive/MyDrive/Data/model (1).pkl', 'rb') as file:\n",
        "    loaded_model = pickle.load(file)"
      ],
      "metadata": {
        "id": "VMBRmrKOVZnH"
      },
      "execution_count": null,
      "outputs": []
    },
    {
      "cell_type": "code",
      "source": [
        "with open('/content/pipeline.pkl', 'rb') as file:\n",
        "    model_pipeline = pickle.load(file)"
      ],
      "metadata": {
        "id": "JTR9BRQQZrXu"
      },
      "execution_count": null,
      "outputs": []
    },
    {
      "cell_type": "code",
      "source": [
        "model_pipeline = Pipeline([\n",
        "    ('stdscaler', stdscaler),\n",
        "    ('pca', pca),\n",
        "    ('classifier', loaded_model)\n",
        "])"
      ],
      "metadata": {
        "id": "K2dgi_SeVbwn"
      },
      "execution_count": null,
      "outputs": []
    },
    {
      "cell_type": "code",
      "source": [
        "Y_pred = model_pipeline.predict(X)\n",
        "print('test accuracy = ', round(accuracy_score(Y, Y_pred)*100, 2), '%')"
      ],
      "metadata": {
        "colab": {
          "base_uri": "https://localhost:8080/"
        },
        "id": "7W-ySauBVeLo",
        "outputId": "c587a964-81f4-42e4-d670-f68b0e0ed356"
      },
      "execution_count": null,
      "outputs": [
        {
          "output_type": "stream",
          "name": "stderr",
          "text": [
            "/usr/local/lib/python3.10/dist-packages/sklearn/base.py:439: UserWarning: X does not have valid feature names, but SVC was fitted with feature names\n",
            "  warnings.warn(\n"
          ]
        },
        {
          "output_type": "stream",
          "name": "stdout",
          "text": [
            "test accuracy =  94.91 %\n"
          ]
        }
      ]
    },
    {
      "cell_type": "code",
      "source": [
        "print(classification_report(Y, Y_pred))"
      ],
      "metadata": {
        "colab": {
          "base_uri": "https://localhost:8080/"
        },
        "id": "3CdrJG0qVfTp",
        "outputId": "9bc73321-0c6d-47f5-e355-5974b99239f6"
      },
      "execution_count": null,
      "outputs": [
        {
          "output_type": "stream",
          "name": "stdout",
          "text": [
            "              precision    recall  f1-score   support\n",
            "\n",
            "           0       0.95      0.98      0.96      1260\n",
            "           1       0.96      0.86      0.91       507\n",
            "\n",
            "    accuracy                           0.95      1767\n",
            "   macro avg       0.95      0.92      0.94      1767\n",
            "weighted avg       0.95      0.95      0.95      1767\n",
            "\n"
          ]
        }
      ]
    },
    {
      "cell_type": "code",
      "source": [
        "import pickle\n",
        "pickle.dump(model_pipeline, open('pipeline.pkl','wb'))"
      ],
      "metadata": {
        "id": "aGIt8P-NYYUO"
      },
      "execution_count": null,
      "outputs": []
    }
  ]
}